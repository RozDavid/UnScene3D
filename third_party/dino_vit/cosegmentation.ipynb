{
 "cells": [
  {
   "cell_type": "markdown",
   "source": [
    "# Deep ViT Features - Co-segmentation\n",
    "Given a set of images, segment all the common objects among them."
   ],
   "metadata": {
    "id": "SibdvxA-BPtb"
   }
  },
  {
   "cell_type": "code",
   "execution_count": null,
   "metadata": {
    "collapsed": true,
    "cellView": "form",
    "id": "wlEqPSu6A2Lk"
   },
   "outputs": [],
   "source": [
    "#@title Installations and mounting\n",
    "!pip install tqdm\n",
    "!pip install faiss-cpu\n",
    "!pip install timm\n",
    "!pip install opencv-python\n",
    "!pip install git+https://github.com/lucasb-eyer/pydensecrf.git\n",
    "!git clone https://github.com/ShirAmir/dino-vit-features.git\n",
    "import sys\n",
    "sys.path.append('dino-vit-features')\n",
    "%load_ext autoreload\n",
    "%autoreload 2"
   ]
  },
  {
   "cell_type": "markdown",
   "source": [
    "## Change Runtime Type\n",
    "To get a GPU in Google Colab, go to the top menu: Runtime ➔ Change runtime type and select GPU as Hardware accelerator.\n"
   ],
   "metadata": {
    "id": "aQELHecYBuI_"
   }
  },
  {
   "cell_type": "code",
   "execution_count": null,
   "outputs": [],
   "source": [
    "#@title Configuration:\n",
    "#@markdown Choose image paths:\n",
    "images_paths = ['dino-vit-features/images/cat.jpg', 'dino-vit-features/images/ibex.jpg'] #@param\n",
    "#@markdown Choose loading size:\n",
    "load_size = 360 #@param\n",
    "#@markdown Choose layer of descriptor:\n",
    "layer = 11 #@param\n",
    "#@markdown Choose facet of descriptor:\n",
    "facet = 'key' #@param\n",
    "#@markdown Choose if to use a binned descriptor:\n",
    "bin=False #@param\n",
    "#@markdown Choose fg / bg threshold:\n",
    "thresh=0.065 #@param\n",
    "#@markdown Choose model type:\n",
    "model_type='dino_vits8' #@param\n",
    "#@markdown Choose stride:\n",
    "stride=4 #@param\n",
    "#@markdown Choose elbow coefficient for setting number of clusters\n",
    "elbow=0.975 #@param\n",
    "#@markdown Choose percentage of votes to make a cluster salient.\n",
    "votes_percentage=75 #@param\n",
    "#@markdown Choose whether to remove outlier images\n",
    "remove_outliers=False #@param\n",
    "#@markdown Choose threshold to distinguish inliers from outliers\n",
    "outliers_thresh=0.7 #@param\n",
    "#@markdown Choose interval for sampling descriptors for training\n",
    "sample_interval=100 #@param\n",
    "#@markdown Use low resolution saliency maps -- reduces RAM usage.\n",
    "low_res_saliency_maps=True #@param"
   ],
   "metadata": {
    "pycharm": {
     "name": "#%%\n"
    },
    "cellView": "form",
    "id": "CXYGv2mxA2Ll"
   }
  },
  {
   "cell_type": "code",
   "execution_count": null,
   "outputs": [],
   "source": [
    "import matplotlib.pyplot as plt\n",
    "import torch\n",
    "from cosegmentation import find_cosegmentation, draw_cosegmentation, draw_cosegmentation_binary_masks\n",
    "\n",
    "with torch.no_grad():\n",
    "\n",
    "     # computing cosegmentation\n",
    "    seg_masks, pil_images = find_cosegmentation(images_paths, elbow, load_size, layer, facet, bin, thresh, model_type,\n",
    "                                                stride, votes_percentage, sample_interval, remove_outliers,\n",
    "                                                outliers_thresh, low_res_saliency_maps)\n",
    "\n",
    "    figs, axes = [], []\n",
    "    for pil_image in pil_images:\n",
    "      fig, ax = plt.subplots()\n",
    "      ax.axis('off')\n",
    "      ax.imshow(pil_image)\n",
    "      figs.append(fig)\n",
    "      axes.append(ax)\n",
    "    \n",
    "    # saving cosegmentations\n",
    "    binary_mask_figs = draw_cosegmentation_binary_masks(seg_masks)\n",
    "    chessboard_bg_figs = draw_cosegmentation(seg_masks, pil_images)\n",
    "\n",
    "    plt.show()"
   ],
   "metadata": {
    "pycharm": {
     "name": "#%%\n"
    },
    "id": "YylGkwBEA2Lm"
   }
  }
 ],
 "metadata": {
  "kernelspec": {
   "display_name": "Python 3",
   "language": "python",
   "name": "python3"
  },
  "language_info": {
   "codemirror_mode": {
    "name": "ipython",
    "version": 2
   },
   "file_extension": ".py",
   "mimetype": "text/x-python",
   "name": "python",
   "nbconvert_exporter": "python",
   "pygments_lexer": "ipython2",
   "version": "2.7.6"
  },
  "colab": {
   "name": "cosegmentation.ipynb",
   "provenance": []
  },
  "accelerator": "GPU"
 },
 "nbformat": 4,
 "nbformat_minor": 0
}