{
 "cells": [
  {
   "cell_type": "markdown",
   "source": [
    "# Deep ViT Features - Point Correspondences\n",
    "Given a pair of images, find $k$ semantic correspondences between them."
   ],
   "metadata": {
    "id": "iXSxLsctywDm"
   }
  },
  {
   "cell_type": "code",
   "execution_count": null,
   "outputs": [],
   "source": [
    "#@title Installations and mounting\n",
    "!pip install tqdm\n",
    "!pip install faiss-cpu\n",
    "!pip install timm\n",
    "!pip install opencv-python\n",
    "!pip install git+https://github.com/lucasb-eyer/pydensecrf.git\n",
    "!git clone https://github.com/ShirAmir/dino-vit-features.git\n",
    "import sys\n",
    "sys.path.append('dino-vit-features')\n",
    "%load_ext autoreload\n",
    "%autoreload 2"
   ],
   "metadata": {
    "pycharm": {
     "name": "#%%\n"
    },
    "cellView": "form",
    "id": "XYCqRH11xqo7"
   }
  },
  {
   "cell_type": "markdown",
   "source": [
    "## Change Runtime Type\n",
    "To get a GPU in Google Colab, go to the top menu: Runtime ➔ Change runtime type and select GPU as Hardware accelerator."
   ],
   "metadata": {
    "id": "8e8qCxV6x32E"
   }
  },
  {
   "cell_type": "code",
   "execution_count": null,
   "outputs": [],
   "source": [
    "#@title Configuration:\n",
    "#@markdown Choose image paths:\n",
    "\n",
    "image_path1 = 'dino-vit-features/images/cat.jpg' #@param\n",
    "image_path2 = 'dino-vit-features/images/ibex.jpg' #@param\n",
    "\n",
    "#@markdown Choose number of points to output:\n",
    "num_pairs = 10 #@param\n",
    "#@markdown Choose loading size:\n",
    "load_size = 224 #@param\n",
    "#@markdown Choose layer of descriptor:\n",
    "layer = 9 #@param\n",
    "#@markdown Choose facet of descriptor:\n",
    "facet = 'key' #@param\n",
    "#@markdown Choose if to use a binned descriptor:\n",
    "bin=True #@param\n",
    "#@markdown Choose fg / bg threshold:\n",
    "thresh=0.05 #@param\n",
    "#@markdown Choose model type:\n",
    "model_type='dino_vits8' #@param\n",
    "#@markdown Choose stride:\n",
    "stride=4 #@param"
   ],
   "metadata": {
    "pycharm": {
     "name": "#%%\n"
    },
    "cellView": "form",
    "id": "k14_KK3Cxqo9"
   }
  },
  {
   "cell_type": "code",
   "execution_count": null,
   "outputs": [],
   "source": [
    "import matplotlib.pyplot as plt\n",
    "import torch\n",
    "from correspondences import find_correspondences, draw_correspondences\n",
    "\n",
    "with torch.no_grad():\n",
    "    points1, points2, image1_pil, image2_pil = find_correspondences(image_path1, image_path2, num_pairs, load_size, layer,\n",
    "                                                                   facet, bin, thresh, model_type, stride)\n",
    "fig_1, ax1 = plt.subplots()\n",
    "ax1.axis('off')\n",
    "ax1.imshow(image1_pil)\n",
    "fig_2, ax2 = plt.subplots()\n",
    "ax2.axis('off')\n",
    "ax2.imshow(image2_pil)\n",
    "\n",
    "\n",
    "fig1, fig2 = draw_correspondences(points1, points2, image1_pil, image2_pil)\n",
    "plt.show()"
   ],
   "metadata": {
    "pycharm": {
     "name": "#%%\n"
    },
    "id": "A6f_PAqxxqo-"
   }
  }
 ],
 "metadata": {
  "kernelspec": {
   "display_name": "Python 3",
   "language": "python",
   "name": "python3"
  },
  "language_info": {
   "codemirror_mode": {
    "name": "ipython",
    "version": 2
   },
   "file_extension": ".py",
   "mimetype": "text/x-python",
   "name": "python",
   "nbconvert_exporter": "python",
   "pygments_lexer": "ipython2",
   "version": "2.7.6"
  },
  "colab": {
   "name": "correspondences.ipynb",
   "provenance": []
  },
  "accelerator": "GPU"
 },
 "nbformat": 4,
 "nbformat_minor": 0
}